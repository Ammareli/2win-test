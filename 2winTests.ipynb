{
 "cells": [
  {
   "cell_type": "code",
   "execution_count": 1,
   "metadata": {},
   "outputs": [
    {
     "name": "stdout",
     "output_type": "stream",
     "text": [
      "\n"
     ]
    }
   ],
   "source": [
    "print()"
   ]
  },
  {
   "cell_type": "code",
   "execution_count": 8,
   "metadata": {},
   "outputs": [
    {
     "name": "stdout",
     "output_type": "stream",
     "text": [
      "0\n",
      "Status Code: 200\n",
      "Response Text: {\"status\":\"success\"}\n",
      "\n"
     ]
    }
   ],
   "source": [
    "import requests\n",
    "import json\n",
    "import time\n",
    "# Define the URL for the Flask callback route\n",
    "url = 'http://127.0.0.1:8080/callback'\n",
    "# url = \"http://78.141.232.121/callback\"\n",
    "\n",
    "# Define the payload with one alarm in custom_files metadata\n",
    "data = {\n",
    "    \"data\": {\n",
    "        \"metadata\": {\n",
    "            \"custom_files\": [\n",
    "                {\n",
    "                    \"alarm_id\": \"Alarm 1\"\n",
    "                }\n",
    "            ]\n",
    "        }\n",
    "    }\n",
    "}\n",
    "\n",
    "# Send POST request with JSON data\n",
    "for _ in range(1):\n",
    "    print(_)\n",
    "    response = requests.post(url, json=data)\n",
    "\n",
    "    # Print response from the server\n",
    "    print(f\"Status Code: {response.status_code}\")\n",
    "    print(f\"Response Text: {response.text}\")\n",
    "    # time.sleep(120)"
   ]
  },
  {
   "cell_type": "code",
   "execution_count": null,
   "metadata": {},
   "outputs": [],
   "source": []
  }
 ],
 "metadata": {
  "kernelspec": {
   "display_name": "2win-test",
   "language": "python",
   "name": "python3"
  },
  "language_info": {
   "codemirror_mode": {
    "name": "ipython",
    "version": 3
   },
   "file_extension": ".py",
   "mimetype": "text/x-python",
   "name": "python",
   "nbconvert_exporter": "python",
   "pygments_lexer": "ipython3",
   "version": "3.11.10"
  }
 },
 "nbformat": 4,
 "nbformat_minor": 2
}
